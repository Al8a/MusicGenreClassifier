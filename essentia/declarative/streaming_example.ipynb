{
 "cells": [
  {
   "cell_type": "code",
   "execution_count": 8,
   "metadata": {},
   "outputs": [],
   "source": [
    "import essentia\n",
    "from essentia.streaming import *\n",
    "song = '../../02-bunny-chow.wav'\n",
    "\n",
    "loader = MonoLoader(filename = song )\n",
    "frameCutter = FrameCutter(frameSize = 1024, hopSize = 512)\n",
    "w = Windowing(type = 'hann')\n",
    "spec = Spectrum()\n",
    "mfcc = MFCC()"
   ]
  },
  {
   "cell_type": "code",
   "execution_count": 9,
   "metadata": {},
   "outputs": [
    {
     "data": {
      "text/plain": [
       "<essentia.streaming._StreamConnector at 0x10f6a2bc0>"
      ]
     },
     "execution_count": 9,
     "metadata": {},
     "output_type": "execute_result"
    }
   ],
   "source": [
    "loader.audio >> frameCutter.signal\n",
    "frameCutter.frame >> w.frame >> spec.frame\n",
    "spec.spectrum >> mfcc.spectrum"
   ]
  },
  {
   "cell_type": "code",
   "execution_count": 10,
   "metadata": {},
   "outputs": [
    {
     "name": "stdout",
     "output_type": "stream",
     "text": [
      "Pool contains 13899 frames of MFCCs\n"
     ]
    },
    {
     "name": "stderr",
     "output_type": "stream",
     "text": [
      "[   INFO   ] TriangularBands: input spectrum size (513) does not correspond to the \"inputSize\" parameter (1025). Recomputing the filter bank.\n"
     ]
    }
   ],
   "source": [
    "pool = essentia.Pool()\n",
    "\n",
    "mfcc.bands >> None\n",
    "mfcc.mfcc >> (pool, 'lowlevel.mfcc')\n",
    "\n",
    "essentia.run(loader)\n",
    "\n",
    "print('Pool contains %d frames of MFCCs' % len(pool['lowlevel.mfcc']))\n",
    "mfcc.mfcc.disconnect((pool, 'lowlevel.mfcc'))"
   ]
  },
  {
   "cell_type": "code",
   "execution_count": 11,
   "metadata": {},
   "outputs": [
    {
     "data": {
      "text/plain": [
       "<essentia.streaming._create_streaming_algo.<locals>.StreamingAlgo at 0x11ffd4140>"
      ]
     },
     "execution_count": 11,
     "metadata": {},
     "output_type": "execute_result"
    }
   ],
   "source": [
    "fileout = FileOutput(filename = 'mfccframes.txt')\n",
    "mfcc.mfcc >> fileout"
   ]
  },
  {
   "cell_type": "code",
   "execution_count": 12,
   "metadata": {},
   "outputs": [],
   "source": [
    "essentia.reset(loader)\n",
    "essentia.run(loader)"
   ]
  },
  {
   "cell_type": "code",
   "execution_count": 14,
   "metadata": {},
   "outputs": [
    {
     "name": "stdout",
     "output_type": "stream",
     "text": [
      "[-1096.39, 119.607, -4.81795, -8.43686, -1.37244, 3.37416, 2.67017, 11.4046, 8.50015, 8.03775, 11.8757, 0.392288, 0.857821]\n",
      "[-535.856, -2.95355, -21.4968, 1.31342, -31.2782, -22.3481, -16.052, 5.36331, 12.7779, -9.16636, 1.60613, 18.3432, 13.9109]\n",
      "[-416.776, 60.6342, 15.3917, 20.4773, 5.11832, 2.77755, -3.28219, 4.56715, 5.92997, 14.3729, 8.48573, -0.261704, -7.83669]\n",
      "[-446.532, 43.4964, 49.7826, 32.9233, 28.5506, 18.9668, 2.48533, 10.9305, 11.3812, 8.25294, 18.5488, 13.7306, -3.86369]\n",
      "[-470.794, 30.8232, 32.3897, 22.2684, 17.2347, 18.4642, 12.8763, 1.74475, 9.73407, 24.5217, 19.4642, 1.04816, 9.10821]\n",
      "[-527.185, 12.3982, 32.457, 21.0248, 11.3253, 17.1901, 13.3383, 11.3044, 6.76982, 20.8355, 2.37567, 1.01581, 4.96368]\n",
      "[-570.52, -2.31888, 21.8986, 28.4625, 34.1597, 40.1239, 16.016, 1.05716, 14.7623, 13.223, 0.954144, 13.9937, -1.45606]\n",
      "[-633.725, -5.00591, 12.1387, 14.5061, 15.6967, 14.7904, -7.47797, 9.57744, 16.8088, 8.19625, 7.00637, -18.0977, -12.3592]\n",
      "[-684.197, -5.57802, 16.4152, 31.5284, 40.7462, 26.5425, 5.33732, 7.6239, -14.9414, 9.04548, 3.48623, -5.15579, 2.1391]\n",
      "[-740.197, -11.3371, -7.03564, 29.6412, 44.6844, 35.3361, 26.6764, 24.262, 3.60758, 22.2113, -2.05404, 3.71142, -5.87159]\n"
     ]
    }
   ],
   "source": [
    "!head mfccframes.txt "
   ]
  }
 ],
 "metadata": {
  "kernelspec": {
   "display_name": "base",
   "language": "python",
   "name": "python3"
  },
  "language_info": {
   "codemirror_mode": {
    "name": "ipython",
    "version": 3
   },
   "file_extension": ".py",
   "mimetype": "text/x-python",
   "name": "python",
   "nbconvert_exporter": "python",
   "pygments_lexer": "ipython3",
   "version": "3.10.9"
  }
 },
 "nbformat": 4,
 "nbformat_minor": 2
}
